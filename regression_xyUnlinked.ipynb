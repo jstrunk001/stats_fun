{
 "cells": [
  {
   "cell_type": "markdown",
   "id": "5de6e0cf-5612-4128-8cb6-3276c5bfe3a5",
   "metadata": {},
   "source": [
    "# Analysis overview:\n",
    "\n",
    "Fit a linear model between X and Y of the form below, but when measured on different elements\n",
    "\n",
    "y = a1 + b1*x + b2*x^2 + e\n",
    "\n",
    "a1, b1, b2 are typicall estimated to minimize sum(e^2)\n",
    "\n",
    "However, we cannot optimized the fit between x and y using sum(e^2) since we don't know x and y for the same observations, instead we minimize quantiles(y,c(.1,.2,.3,...,.9)) - \n",
    "\n"
   ]
  },
  {
   "cell_type": "code",
   "execution_count": null,
   "id": "71fc72e3-1cfd-444c-bc12-be24a687eb7b",
   "metadata": {},
   "outputs": [],
   "source": []
  }
 ],
 "metadata": {
  "kernelspec": {
   "display_name": "R",
   "language": "R",
   "name": "ir"
  },
  "language_info": {
   "codemirror_mode": "r",
   "file_extension": ".r",
   "mimetype": "text/x-r-source",
   "name": "R",
   "pygments_lexer": "r",
   "version": "3.6.1"
  }
 },
 "nbformat": 4,
 "nbformat_minor": 5
}
